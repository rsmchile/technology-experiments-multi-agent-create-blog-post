{
 "cells": [
  {
   "cell_type": "markdown",
   "metadata": {},
   "source": [
    "# Using Multi-Agents to create a Blob Post for GPT-4 Aniversary"
   ]
  },
  {
   "cell_type": "markdown",
   "metadata": {},
   "source": [
    "## Introduction\n",
    "In this blog post, we will use multi-agent system to create a blog post for GPT-4 Aniversary.\n",
    "\n"
   ]
  },
  {
   "cell_type": "markdown",
   "metadata": {},
   "source": [
    "## Step01: Import libs and Variables\n"
   ]
  },
  {
   "cell_type": "code",
   "execution_count": 1,
   "metadata": {},
   "outputs": [
    {
     "data": {
      "text/plain": [
       "True"
      ]
     },
     "execution_count": 1,
     "metadata": {},
     "output_type": "execute_result"
    }
   ],
   "source": [
    "import os\n",
    "from dotenv import load_dotenv\n",
    "from langchain_community.utilities import SerpAPIWrapper\n",
    "import functools, operator, requests, os, json\n",
    "from langchain.agents import AgentExecutor, create_openai_tools_agent\n",
    "from langchain_core.messages import BaseMessage, HumanMessage\n",
    "from langchain.output_parsers.openai_functions import JsonOutputFunctionsParser\n",
    "from langchain_core.prompts import ChatPromptTemplate, MessagesPlaceholder\n",
    "from langgraph.graph import StateGraph, END\n",
    "from langchain.tools import tool\n",
    "from langchain_openai import ChatOpenAI\n",
    "from typing import Annotated, Any, Dict, List, Optional, Sequence, TypedDict\n",
    "from langchain_anthropic import ChatAnthropic\n",
    "\n",
    "from langchain_core.messages import (\n",
    "    AIMessage,\n",
    "    BaseMessage,\n",
    "    ChatMessage,\n",
    "    FunctionMessage,\n",
    "    HumanMessage,\n",
    "    SystemMessage\n",
    ")\n",
    "\n",
    "# Load environment variables\n",
    "load_dotenv()"
   ]
  },
  {
   "cell_type": "markdown",
   "metadata": {},
   "source": [
    "## Step 02: Let's initialize and test our objects and tools"
   ]
  },
  {
   "cell_type": "code",
   "execution_count": 2,
   "metadata": {},
   "outputs": [
    {
     "data": {
      "text/plain": [
       "'Santiago'"
      ]
     },
     "execution_count": 2,
     "metadata": {},
     "output_type": "execute_result"
    }
   ],
   "source": [
    "# Let's test the SerpAPIWrapper\n",
    "\n",
    "search = SerpAPIWrapper()\n",
    "search.run(\"What is the capital of Chile?\")"
   ]
  },
  {
   "cell_type": "markdown",
   "metadata": {},
   "source": []
  },
  {
   "cell_type": "code",
   "execution_count": 3,
   "metadata": {},
   "outputs": [
    {
     "data": {
      "text/plain": [
       "AIMessage(content='Hello! How can I assist you today?', response_metadata={'finish_reason': 'stop', 'logprobs': None})"
      ]
     },
     "execution_count": 3,
     "metadata": {},
     "output_type": "execute_result"
    }
   ],
   "source": [
    "# Create the LLM Object\n",
    "llm = ChatOpenAI(model=\"gpt-4-turbo-preview\")\n",
    "llm.invoke('Hello!')"
   ]
  },
  {
   "cell_type": "markdown",
   "metadata": {},
   "source": [
    "## Step 03: Let's create the multi-agent system"
   ]
  },
  {
   "cell_type": "markdown",
   "metadata": {},
   "source": [
    "### First we will create some tools"
   ]
  },
  {
   "cell_type": "code",
   "execution_count": 4,
   "metadata": {},
   "outputs": [],
   "source": [
    "@tool(\"web_search\")\n",
    "def web_search(query: str) -> str:\n",
    "    \"\"\"Search with Google SERP API by a query\"\"\"\n",
    "    search = SerpAPIWrapper()\n",
    "    return search.run(query)"
   ]
  },
  {
   "cell_type": "code",
   "execution_count": 5,
   "metadata": {},
   "outputs": [],
   "source": [
    "class AgentState(TypedDict):\n",
    "    # The annotation tells the graph that new messages will always\n",
    "    # be added to the current states\n",
    "    messages: Annotated[Sequence[BaseMessage], operator.add]\n",
    "    # The 'next' field indicates where to route to next\n",
    "    next: str"
   ]
  },
  {
   "cell_type": "code",
   "execution_count": 6,
   "metadata": {},
   "outputs": [],
   "source": [
    "# Definer an agent creator and nod\n",
    "def create_agent(llm: ChatOpenAI, tools: list, system_prompt: str):\n",
    "    # Each worker node will be given a name and some tools.\n",
    "    prompt = ChatPromptTemplate.from_messages(\n",
    "        [\n",
    "            (\n",
    "                \"system\",\n",
    "                system_prompt,\n",
    "            ),\n",
    "            MessagesPlaceholder(variable_name=\"messages\"),\n",
    "            MessagesPlaceholder(variable_name=\"agent_scratchpad\"),\n",
    "        ]\n",
    "    )\n",
    "    agent = create_openai_tools_agent(llm, tools, prompt)\n",
    "    executor = AgentExecutor(agent=agent, tools=tools)\n",
    "    return executor\n",
    "\n",
    "def agent_node(state, agent, name):\n",
    "    result = agent.invoke(state)\n",
    "    return {\"messages\": [HumanMessage(content=result[\"output\"], name=name)]}"
   ]
  },
  {
   "cell_type": "code",
   "execution_count": 7,
   "metadata": {},
   "outputs": [],
   "source": [
    "members = [\"Researcher\", \"Writer\", \"Critic\"]\n",
    "system_prompt = (\n",
    "    \"You are a Supervisor on a editorial office tasked with managing a conversation between the\"\n",
    "    \" following workers: {members}. Given the following user request,\"\n",
    "    \" respond with the worker to act next. Each worker will perform a\"\n",
    "    \" task and respond with their results and status. \"\n",
    "    \" Normally a process on this agency follow this path, First the Researcher researchs for relevant information\"\n",
    "    \", then the Writer makes a first draft, the Critic provides feedback\"\n",
    "    \", and then the Writer makes the final document.\"\n",
    "    \" When finished, respond with FINISH.\"\n",
    ")\n",
    "\n",
    "options = [\"FINISH\"] + members\n",
    "# Using openai function calling can make output parsing easier for us\n",
    "function_def = {\n",
    "    \"name\": \"route\",\n",
    "    \"description\": \"Select the next role.\",\n",
    "    \"parameters\": {\n",
    "        \"title\": \"routeSchema\",\n",
    "        \"type\": \"object\",\n",
    "        \"properties\": {\n",
    "            \"next\": {\n",
    "                \"title\": \"Next\",\n",
    "                \"anyOf\": [\n",
    "                    {\"enum\": options},\n",
    "                ],\n",
    "            }\n",
    "        },\n",
    "        \"required\": [\"next\"],\n",
    "    },\n",
    "}\n",
    "prompt = ChatPromptTemplate.from_messages(\n",
    "    [\n",
    "        (\"system\", system_prompt),\n",
    "        MessagesPlaceholder(variable_name=\"messages\"),\n",
    "        (\n",
    "            \"system\",\n",
    "            \"Given the conversation above, who should act next?\"\n",
    "            \" Or should we FINISH? Select one of: {options}\",\n",
    "        ),\n",
    "    ]\n",
    ").partial(options=str(options), members=\", \".join(members))\n",
    "\n",
    "supervisor_chain = (\n",
    "    prompt\n",
    "    | llm.bind_functions(functions=[function_def], function_call=\"route\")\n",
    "    | JsonOutputFunctionsParser()\n",
    ")"
   ]
  },
  {
   "cell_type": "code",
   "execution_count": 8,
   "metadata": {},
   "outputs": [],
   "source": [
    "# Define the Critic agent\n",
    "critic_profile = \"\"\"\n",
    "You are a Critic, an AI agent designed to provide constructive feedback and suggestions to improve the quality of written content. Your role is to assess the strengths and weaknesses of the given text and offer specific, actionable advice to enhance its clarity, coherence, and overall effectiveness.\n",
    "\n",
    "When critiquing the content, focus on the following aspects:\n",
    "1. Structure and Organization: Evaluate how well the content is organized and whether it follows a logical flow. Suggest improvements to the structure, such as rearranging paragraphs or adding subheadings, to enhance readability and clarity.\n",
    "2. Clarity and Coherence: Assess whether the ideas are expressed clearly and coherently. Identify any ambiguous or confusing passages and provide suggestions for improving clarity, such as rephrasing sentences or adding explanations.\n",
    "3. Tone and Style: Analyze the tone and style of the writing and determine if it is appropriate for the target audience and purpose. Offer suggestions for adjusting the tone or style to better engage and resonate with the intended readers.\n",
    "4. Grammar and Syntax: Check for any grammatical errors, punctuation mistakes, or syntactical issues. Provide specific corrections and explanations to help the writer improve their language skills.\n",
    "5. Effectiveness and Impact: Evaluate the overall effectiveness and impact of the content in achieving its intended purpose. Offer insights on how to strengthen arguments, provide more compelling evidence, or enhance the persuasive power of the writing.\n",
    "\n",
    "When providing feedback, maintain a constructive and supportive tone. Acknowledge the strengths of the writing while offering specific, actionable suggestions for improvement. Your goal is to help the writer refine their work and create high-quality, impactful content.\n",
    "\"\"\"\n",
    "\n",
    "critic_agent = create_agent(\n",
    "    llm=llm,\n",
    "    tools=[web_search],\n",
    "    system_prompt=critic_profile\n",
    ")"
   ]
  },
  {
   "cell_type": "code",
   "execution_count": 9,
   "metadata": {},
   "outputs": [],
   "source": [
    "# Define the research agent\n",
    "researcher_profile = \"\"\"You are the Researcher an AI agent designed to find relevant information using search engines.\n",
    "It employs advanced search techniques, such as Boolean operators, phrase searches, and domain filtering, to locate the most pertinent sources.\n",
    "The Researcher evaluates the credibility, publication date, and author expertise of each result to ensure the highest quality information is used.\n",
    "It synthesizes the findings to provide concise summaries and key insights related to the given research question.\n",
    "The Researcher iterates on its search process as needed, refining terms and strategies to optimize results.\"\"\"\n",
    "\n",
    "researcher_engine_agent = create_agent(\n",
    "    llm=llm,\n",
    "    tools=[web_search],\n",
    "    system_prompt=researcher_profile\n",
    ")"
   ]
  },
  {
   "cell_type": "code",
   "execution_count": 10,
   "metadata": {},
   "outputs": [],
   "source": [
    "# Define the research agent\n",
    "blog_writer_profile = \"\"\"You are Writer, an expert in creating engaging, informative, and well-structured blog content on a wide range of topics. \n",
    "Your task is to write a comprehensive blog post based on the given topic, target audience, and any additional requirements provided.\n",
    "\n",
    "## Steps you must follow:\n",
    "- Step 1: Conduct thorough research using reliable sources to gather relevant information and data to support your content.\n",
    "- Step 2: Organize the blog post structure, including a compelling headline, an engaging introduction, a well-structured body with logical sections and subsections, and a conclusion that summarizes the key takeaways and includes a call-to-action.\n",
    "- Step 3: Write the blog post using a clear, concise, and engaging writing style that resonates with the target audience. Incorporate examples, statistics, and expert quotes to support your arguments and provide value to the reader.\n",
    "- Step 4: Optimize the blog post for search engines by including relevant keywords and meta tags, and craft a persuasive meta description to entice readers to click through from search engine results pages.\n",
    "- Step 5: Format the blog post using appropriate techniques such as headings, subheadings, bullet points, and images to enhance its visual appeal and readability.\n",
    "\n",
    "## Blog Post Structure:\n",
    "\n",
    "- Headline: A compelling and attention-grabbing title that accurately reflects the content of the blog post.\n",
    "- Introduction: An engaging opening that hooks the reader and provides a brief overview of the main points to be discussed.\n",
    "- Body: The main content of the blog post, divided into logical sections and subsections, each focusing on a specific aspect of the topic. The Blog Writer uses examples, statistics, and expert quotes to support the arguments and provide value to the reader.\n",
    "- Conclusion: A summary of the key takeaways and insights from the blog post, along with a call-to-action encouraging the reader to engage further with the topic or take a specific action.\n",
    "- Meta Description: A concise and persuasive summary of the blog post, designed to entice readers to click through from search engine results pages.\n",
    "\n",
    "Remember to adapt your writing style and tone to match the specific requirements of the topic and target audience. Your goal is to create a blog post that informs, engages, and inspires readers to take action or explore the topic further.\n",
    "\"\"\"\n",
    "\n",
    "writer_operator_agent = create_agent(\n",
    "    llm=llm,\n",
    "    tools=[web_search],\n",
    "    system_prompt=blog_writer_profile\n",
    ")"
   ]
  },
  {
   "cell_type": "code",
   "execution_count": 11,
   "metadata": {},
   "outputs": [],
   "source": [
    "# Add the agents to the graph.\n",
    "researcher_engine_node = functools.partial(agent_node, agent=researcher_engine_agent, name=\"Researcher\")\n",
    "writer_operator_node = functools.partial(agent_node, agent=writer_operator_agent, name=\"Writer\")\n",
    "critic_operator_node = functools.partial(agent_node, agent=critic_agent, name=\"Critic\")"
   ]
  },
  {
   "cell_type": "code",
   "execution_count": 12,
   "metadata": {},
   "outputs": [],
   "source": [
    "# Define the state\n",
    "workflow = StateGraph(AgentState)\n",
    "workflow.add_node(\"Researcher\", researcher_engine_node)\n",
    "workflow.add_node(\"Writer\", writer_operator_node)\n",
    "workflow.add_node(\"Critic\", critic_operator_node)\n",
    "workflow.add_node(\"Supervisor\", supervisor_chain)"
   ]
  },
  {
   "cell_type": "code",
   "execution_count": 13,
   "metadata": {},
   "outputs": [],
   "source": [
    "for member in members:\n",
    "    workflow.add_edge(member, \"Supervisor\")\n",
    "\n",
    "conditional_map = {k: k for k in members}\n",
    "conditional_map[\"FINISH\"] = END\n",
    "workflow.add_conditional_edges(\"Supervisor\", lambda x: x[\"next\"], conditional_map)\n",
    "\n",
    "workflow.set_entry_point(\"Supervisor\")\n",
    "\n",
    "graph = workflow.compile()"
   ]
  },
  {
   "cell_type": "markdown",
   "metadata": {},
   "source": [
    "## Step 04: Execute the Agent"
   ]
  },
  {
   "cell_type": "code",
   "execution_count": 14,
   "metadata": {},
   "outputs": [
    {
     "name": "stdout",
     "output_type": "stream",
     "text": [
      "{'Supervisor': {'next': 'Researcher'}}\n",
      "----\n",
      "{'Researcher': {'messages': [HumanMessage(content=\"# Celebrating GPT-4: A Year of Revolutionizing the World\\n\\nAs we mark the first anniversary of GPT-4, it's hard not to marvel at the ways this advanced AI system has transformed industries, reshaped our interactions with technology, and redefined what's possible in the realm of artificial intelligence. Over the past year, GPT-4 has emerged not just as a tool, but as a catalyst for innovation, creativity, and efficiency across various sectors. \\n\\n## Unleashing Creativity and Innovation\\n\\nGPT-4, with its unprecedented language understanding and generation capabilities, has democratized creativity and innovation. Writers, artists, and creators across the globe have leveraged this technology to push the boundaries of their imagination, producing works that blend human ingenuity with AI's vast knowledge and nuanced understanding of language. From generating novel ideas to refining artistic visions, GPT-4 has become an indispensable partner in the creative process.\\n\\n## Revolutionizing Business and Industry\\n\\nIn the business world, GPT-4 has been nothing short of a game-changer. Companies, from startups to multinational corporations, have integrated this AI into their operations to enhance efficiency, innovation, and customer satisfaction. Whether it's automating customer service, streamlining workflows, or generating insightful market analysis, GPT-4 has empowered businesses to scale new heights and stay ahead in today's fast-paced, competitive environment.\\n\\n## Advancing Education and Learning\\n\\nEducation and learning have been profoundly impacted by GPT-4. Teachers and educators are utilizing this technology to create personalized learning experiences, making education more accessible and engaging for students of all ages. GPT-4's ability to simplify complex concepts, generate practice exercises, and provide instant feedback has revolutionized the learning process, making it more interactive and effective.\\n\\n## Pioneering in Healthcare\\n\\nThe healthcare sector has witnessed remarkable advancements, thanks to GPT-4. From assisting in medical research to enhancing patient care, GPT-4 has shown tremendous potential in improving health outcomes. It has been instrumental in analyzing vast amounts of medical data to identify trends, predict outcomes, and even assist in diagnosing conditions, thereby supporting healthcare professionals in delivering more precise and personalized care.\\n\\n## Building a More Inclusive World\\n\\nBeyond its practical applications, GPT-4 has played a pivotal role in fostering inclusivity. By breaking down language barriers and enhancing accessibility, it has made information, services, and opportunities more accessible to people from diverse backgrounds. GPT-4's ability to understand and generate multiple languages has bridged communication gaps, bringing communities closer and making the world more connected.\\n\\n## Looking Ahead\\n\\nAs we celebrate a year of GPT-4's remarkable contributions, it's clear that this is just the beginning. The potential of GPT-4 and AI, in general, is boundless. As we look to the future, we can expect even more innovative applications, deeper integration into our daily lives, and continued contributions to solving some of the world's most pressing challenges.\\n\\nIn this journey of exploration and discovery, one thing remains certain: GPT-4 has not only changed the world but has also set the stage for a future where technology and humanity converge in ways we are just beginning to imagine.\\n\\n---\\n\\nAs we commemorate this milestone, let's continue to embrace the possibilities GPT-4 brings and work together towards a future that leverages AI for the betterment of society and the world at large. The journey of GPT-4 is a testament to human ingenuity and a beacon of hope for what we can achieve when we harness the power of artificial intelligence.\", name='Researcher')]}}\n",
      "----\n",
      "{'Supervisor': {'next': 'Critique'}}\n",
      "----\n",
      "{'Critique': {'messages': [HumanMessage(content='Your blog article on the anniversary of GPT-4 offers a comprehensive and enthusiastic overview of its impact across various sectors. The structure is logical, starting with an introduction to GPT-4\\'s capabilities and then detailing its influence in fields such as creativity, business, education, healthcare, and inclusivity. Finally, it concludes with a forward-looking perspective. Here are some specific suggestions to enhance the article\\'s clarity, coherence, and impact:\\n\\n### Structure and Organization\\n- **Introduction:** Consider adding a brief overview of GPT-4\\'s technical advancements over its predecessors to provide context for readers unfamiliar with its significance.\\n- **Subsections:** Each section is well-defined, but you could enhance readability by adding specific examples or case studies within each sector to demonstrate GPT-4\\'s impact more tangibly.\\n- **Conclusion:** The conclusion nicely ties the article together. To amplify its effect, you might propose specific future applications or ethical considerations of GPT-4\\'s continued evolution.\\n\\n### Clarity and Coherence\\n- In the section **Revolutionizing Business and Industry**, you mention \"enhancing efficiency, innovation, and customer satisfaction\" but do not delve into how GPT-4 achieves this. Adding a sentence or two with concrete examples (e.g., automating routine tasks or analyzing customer feedback) would clarify these points.\\n- The **Advancing Education and Learning** section could benefit from a brief mention of any limitations or challenges faced when integrating GPT-4 into educational settings, ensuring a balanced view.\\n\\n### Tone and Style\\n- The tone is appropriately optimistic and celebratory, fitting the article\\'s purpose. To further engage the reader, consider incorporating direct quotes from industry experts, educators, or users who have benefited from GPT-4, adding authenticity and depth to the narrative.\\n- Some sections could be more engaging by asking rhetorical questions or posing challenges that GPT-4 could address in the future, inviting readers to think critically about the technology\\'s potential.\\n\\n### Grammar and Syntax\\n- The article is largely free of grammatical errors. However, maintaining consistency in verb tense (e.g., present tense to describe ongoing impacts) would enhance the professional quality of the writing.\\n- Consider varying sentence structure to avoid repetitiveness, especially in longer paragraphs, to keep the reader\\'s attention.\\n\\n### Effectiveness and Impact\\n- To enhance the article\\'s impact, integrate data or statistics that quantify GPT-4\\'s contributions, such as efficiency improvements in businesses or advancements in healthcare diagnostics.\\n- The final section could be strengthened by addressing potential challenges or ethical considerations associated with AI advancements, encouraging a nuanced discussion about the future of AI like GPT-4.\\n\\nOverall, your article effectively celebrates GPT-4\\'s achievements and potential. By incorporating these suggestions, you can provide a more engaging, balanced, and insightful perspective on how GPT-4 continues to shape our world.', name='Critique')]}}\n",
      "----\n",
      "{'Supervisor': {'next': 'Writer'}}\n",
      "----\n",
      "{'Writer': {'messages': [HumanMessage(content=\"# Celebrating GPT-4: A Year of Pioneering Change and Unleashing Potential\\n\\nAs we celebrate the anniversary of GPT-4, it's essential to reflect on the monumental strides this iteration of Generative Pre-trained Transformer has made over its predecessors. GPT-4's advanced capabilities in understanding and generating human-like text have not only set a new benchmark in the field of artificial intelligence but have also catalyzed transformative changes across various sectors. This blog post delves deep into the technical advancements, tangible impacts, and the visionary future of GPT-4, offering a comprehensive insight into its world-altering journey.\\n\\n## Bridging the Gap: GPT-4's Technical Leap Forward\\n\\nGPT-4 represents a significant leap forward in AI technology, with its enhanced language models that offer a deeper understanding of context, nuance, and the subtleties of human language. Compared to its predecessors, GPT-4's ability to generate coherent, contextually relevant, and often indistinguishable from human-generated text has opened new frontiers in AI's applicability and utility.\\n\\n## Unleashing Creativity: Real-World Examples of GPT-4 at Work\\n\\nIn the realm of creativity and innovation, GPT-4 has served as a muse and an assistant. Take, for example, the creation of an entire novel co-authored by GPT-4 and a human writer, which blended AI's vast data-driven insights with human creativity to explore new narrative possibilities. Similarly, in the art world, GPT-4 has facilitated the creation of complex artworks by providing descriptions and ideas that artists translate into visual masterpieces.\\n\\n## Transforming Businesses: From Efficiency to Innovation\\n\\nThe business sector has witnessed a revolution with GPT-4, particularly in automating routine tasks, analyzing customer feedback for insights, and enhancing decision-making processes. A notable case is a tech startup that leveraged GPT-4 to automate 40% of its customer service inquiries, dramatically improving response times and customer satisfaction.\\n\\n## Revolutionizing Education: Challenges and Opportunities\\n\\nGPT-4 has significantly impacted education by personalizing learning and making complex concepts more accessible. However, integrating AI into educational settings has its challenges, such as ensuring content accuracy and addressing ethical considerations. Despite these hurdles, GPT-4's role in creating adaptive learning platforms exemplifies its potential to transform educational experiences.\\n\\n## Advancing Healthcare: Beyond Diagnosis and Treatment\\n\\nIn healthcare, GPT-4's impact extends from assisting in medical research to revolutionizing patient care. Its ability to analyze medical data has led to breakthroughs in identifying treatment patterns and predicting health outcomes. A compelling example is GPT-4's contribution to a research project that identified potential new therapies for rare diseases, demonstrating AI's capacity to enhance healthcare delivery and research.\\n\\n## Building a More Inclusive World: Overcoming Language Barriers\\n\\nGPT-4's multilingual capabilities have significantly advanced inclusivity by breaking down language barriers, making information and services more accessible globally. Its role in developing multilingual communication tools exemplifies how AI technology fosters a more inclusive and connected world.\\n\\n## The Road Ahead: Ethical Considerations and Future Applications\\n\\nAs we look to the future, the ethical considerations and potential applications of GPT-4 and similar AI technologies become increasingly important. Addressing challenges related to privacy, bias, and ethical use will be crucial as we explore further integration of AI in our daily lives. The potential for GPT-4 to address global challenges, from climate change to healthcare, remains vast and largely untapped.\\n\\n---\\n\\nReflecting on a year of GPT-4's influence, it's clear that this technology has not only revolutionized how we interact with the digital world but also laid the groundwork for a future where AI and human ingenuity converge to solve complex problems. As we continue to explore and harness the potential of GPT-4, let us also remain mindful of the ethical dimensions of this powerful technology, striving for a future where AI enhances humanity's best qualities.\\n\\nEngage with us as we navigate the evolving landscape of AI, and share your thoughts on how GPT-4 can shape a better future for all. Together, let's embark on this exciting journey of discovery and innovation.\", name='Writer')]}}\n",
      "----\n",
      "{'Supervisor': {'next': 'FINISH'}}\n",
      "----\n"
     ]
    }
   ],
   "source": [
    "for s in graph.stream(\n",
    "    {\n",
    "        \"messages\": [\n",
    "            HumanMessage(content=\"This is the aniversary of GPT-4, please write a compeling blog article talking on how it´s chaging the world.\")\n",
    "        ]\n",
    "    }\n",
    "):\n",
    "    if \"__end__\" not in s:\n",
    "        print(s)\n",
    "        print(\"----\")"
   ]
  },
  {
   "cell_type": "code",
   "execution_count": null,
   "metadata": {},
   "outputs": [],
   "source": []
  }
 ],
 "metadata": {
  "kernelspec": {
   "display_name": "technology-experiments-multi-agent-create--BO9T1isj-py3.11",
   "language": "python",
   "name": "python3"
  },
  "language_info": {
   "codemirror_mode": {
    "name": "ipython",
    "version": 3
   },
   "file_extension": ".py",
   "mimetype": "text/x-python",
   "name": "python",
   "nbconvert_exporter": "python",
   "pygments_lexer": "ipython3",
   "version": "3.11.8"
  }
 },
 "nbformat": 4,
 "nbformat_minor": 2
}
